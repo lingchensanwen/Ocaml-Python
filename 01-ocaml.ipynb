{
 "cells": [
  {
   "cell_type": "markdown",
   "metadata": {},
   "source": [
    "# 4.1. aからb-1までの和"
   ]
  },
  {
   "cell_type": "code",
   "execution_count": 1,
   "metadata": {
    "collapsed": false
   },
   "outputs": [
    {
     "data": {
      "text/html": [
       "<pre style=\"color:slategray;max-height:100px;overflow:hidden\" \n",
       "onclick=\"\n",
       "if (this.style.maxHeight === 'none') \n",
       "    this.style.maxHeight = '100px';\n",
       "else\n",
       "    this.style.maxHeight = 'none'; \n",
       "\">val sum : int -&gt; int -&gt; int = &lt;fun&gt;\n",
       "</pre>"
      ]
     },
     "execution_count": 1,
     "metadata": {},
     "output_type": "execute_result"
    },
    {
     "data": {
      "text/html": [
       "<pre style=\"color:slategray;max-height:100px;overflow:hidden\" \n",
       "onclick=\"\n",
       "if (this.style.maxHeight === 'none') \n",
       "    this.style.maxHeight = '100px';\n",
       "else\n",
       "    this.style.maxHeight = 'none'; \n",
       "\">- : int = 45\n",
       "</pre>"
      ]
     },
     "execution_count": 1,
     "metadata": {},
     "output_type": "execute_result"
    }
   ],
   "source": [
    "let rec sum a b =\n",
    "    if a >=b then \n",
    "    0\n",
    "    else \n",
    "       a + sum (a+1) b;;\n",
    "sum 0 10 ;;"
   ]
  },
  {
   "cell_type": "markdown",
   "metadata": {},
   "source": [
    "# 4.2. aからb-1までのリスト"
   ]
  },
  {
   "cell_type": "code",
   "execution_count": 2,
   "metadata": {
    "collapsed": false
   },
   "outputs": [
    {
     "data": {
      "text/html": [
       "<pre style=\"color:slategray;max-height:100px;overflow:hidden\" \n",
       "onclick=\"\n",
       "if (this.style.maxHeight === 'none') \n",
       "    this.style.maxHeight = '100px';\n",
       "else\n",
       "    this.style.maxHeight = 'none'; \n",
       "\">val range : int -&gt; int -&gt; int list = &lt;fun&gt;\n",
       "</pre>"
      ]
     },
     "execution_count": 2,
     "metadata": {},
     "output_type": "execute_result"
    },
    {
     "data": {
      "text/html": [
       "<pre style=\"color:slategray;max-height:100px;overflow:hidden\" \n",
       "onclick=\"\n",
       "if (this.style.maxHeight === 'none') \n",
       "    this.style.maxHeight = '100px';\n",
       "else\n",
       "    this.style.maxHeight = 'none'; \n",
       "\">- : int list = [0; 1; 2; 3; 4; 5; 6; 7; 8; 9]\n",
       "</pre>"
      ]
     },
     "execution_count": 2,
     "metadata": {},
     "output_type": "execute_result"
    }
   ],
   "source": [
    "let rec range a b =\n",
    "    if a >=b then\n",
    "    []\n",
    "    else\n",
    "       a:: range (a+1) b;;\n",
    "range 0 10;;"
   ]
  },
  {
   "cell_type": "markdown",
   "metadata": {},
   "source": [
    "# 4.3. リストの全要素に1ずつ足す"
   ]
  },
  {
   "cell_type": "code",
   "execution_count": 3,
   "metadata": {
    "collapsed": false
   },
   "outputs": [
    {
     "data": {
      "text/html": [
       "<pre style=\"color:slategray;max-height:100px;overflow:hidden\" \n",
       "onclick=\"\n",
       "if (this.style.maxHeight === 'none') \n",
       "    this.style.maxHeight = '100px';\n",
       "else\n",
       "    this.style.maxHeight = 'none'; \n",
       "\">val inclist : int list -&gt; int list = &lt;fun&gt;\n",
       "</pre>"
      ]
     },
     "execution_count": 3,
     "metadata": {},
     "output_type": "execute_result"
    },
    {
     "data": {
      "text/html": [
       "<pre style=\"color:slategray;max-height:100px;overflow:hidden\" \n",
       "onclick=\"\n",
       "if (this.style.maxHeight === 'none') \n",
       "    this.style.maxHeight = '100px';\n",
       "else\n",
       "    this.style.maxHeight = 'none'; \n",
       "\">- : int list = [1; 2; 3; 4; 5; 6; 7; 8; 9; 10]\n",
       "</pre>"
      ]
     },
     "execution_count": 3,
     "metadata": {},
     "output_type": "execute_result"
    }
   ],
   "source": [
    "let rec inclist list=\n",
    "    match list with\n",
    "    [] -> []\n",
    "    |a::r-> (a+1) :: inclist r;;   \n",
    "\n",
    "inclist (range 0 10);;"
   ]
  },
  {
   "cell_type": "markdown",
   "metadata": {},
   "source": [
    "# 4.4. リストの全要素にfを施す"
   ]
  },
  {
   "cell_type": "code",
   "execution_count": 4,
   "metadata": {
    "collapsed": false
   },
   "outputs": [
    {
     "data": {
      "text/html": [
       "<pre style=\"color:slategray;max-height:100px;overflow:hidden\" \n",
       "onclick=\"\n",
       "if (this.style.maxHeight === 'none') \n",
       "    this.style.maxHeight = '100px';\n",
       "else\n",
       "    this.style.maxHeight = 'none'; \n",
       "\">val apply_list : ('a -&gt; 'b) -&gt; 'a list -&gt; 'b list = &lt;fun&gt;\n",
       "</pre>"
      ]
     },
     "execution_count": 4,
     "metadata": {},
     "output_type": "execute_result"
    },
    {
     "data": {
      "text/html": [
       "<pre style=\"color:slategray;max-height:100px;overflow:hidden\" \n",
       "onclick=\"\n",
       "if (this.style.maxHeight === 'none') \n",
       "    this.style.maxHeight = '100px';\n",
       "else\n",
       "    this.style.maxHeight = 'none'; \n",
       "\">- : int list = [1; 2; 3; 4; 5; 6; 7; 8; 9; 10]\n",
       "</pre>"
      ]
     },
     "execution_count": 4,
     "metadata": {},
     "output_type": "execute_result"
    }
   ],
   "source": [
    "let rec apply_list inc list =\n",
    "    match list with\n",
    "    [] -> []\n",
    "    |a::r-> inc a :: apply_list inc r;;\n",
    "    \n",
    "apply_list (fun x -> x + 1) (range 0 10);;"
   ]
  },
  {
   "cell_type": "markdown",
   "metadata": {},
   "source": [
    "# 4.5. 乱数のリスト"
   ]
  },
  {
   "cell_type": "code",
   "execution_count": 5,
   "metadata": {
    "collapsed": false
   },
   "outputs": [
    {
     "data": {
      "text/html": [
       "<pre style=\"color:slategray;max-height:100px;overflow:hidden\" \n",
       "onclick=\"\n",
       "if (this.style.maxHeight === 'none') \n",
       "    this.style.maxHeight = '100px';\n",
       "else\n",
       "    this.style.maxHeight = 'none'; \n",
       "\">val random_ints : int -&gt; int -&gt; int list = &lt;fun&gt;\n",
       "</pre>"
      ]
     },
     "execution_count": 5,
     "metadata": {},
     "output_type": "execute_result"
    },
    {
     "data": {
      "text/html": [
       "<pre style=\"color:slategray;max-height:100px;overflow:hidden\" \n",
       "onclick=\"\n",
       "if (this.style.maxHeight === 'none') \n",
       "    this.style.maxHeight = '100px';\n",
       "else\n",
       "    this.style.maxHeight = 'none'; \n",
       "\">- : int list = [344; 685; 182; 641; 439]\n",
       "</pre>"
      ]
     },
     "execution_count": 5,
     "metadata": {},
     "output_type": "execute_result"
    }
   ],
   "source": [
    "let rec random_ints a n =\n",
    "    List.map (fun x -> Random.int a) (range 0 n);;\n",
    "random_ints 1000 5;;"
   ]
  },
  {
   "cell_type": "code",
   "execution_count": 6,
   "metadata": {
    "collapsed": true
   },
   "outputs": [],
   "source": [
    "(*because random_ints would overflow when n is as big as 1,000,000, I create another random_tail as below to produce \n",
    "random number in a list to finish question10 *)"
   ]
  },
  {
   "cell_type": "code",
   "execution_count": 7,
   "metadata": {
    "collapsed": false
   },
   "outputs": [
    {
     "data": {
      "text/html": [
       "<pre style=\"color:slategray;max-height:100px;overflow:hidden\" \n",
       "onclick=\"\n",
       "if (this.style.maxHeight === 'none') \n",
       "    this.style.maxHeight = '100px';\n",
       "else\n",
       "    this.style.maxHeight = 'none'; \n",
       "\">val random_tail : int -&gt; int -&gt; int list -&gt; int list = &lt;fun&gt;\n",
       "</pre>"
      ]
     },
     "execution_count": 7,
     "metadata": {},
     "output_type": "execute_result"
    },
    {
     "data": {
      "text/html": [
       "<pre style=\"color:slategray;max-height:100px;overflow:hidden\" \n",
       "onclick=\"\n",
       "if (this.style.maxHeight === 'none') \n",
       "    this.style.maxHeight = '100px';\n",
       "else\n",
       "    this.style.maxHeight = 'none'; \n",
       "\">- : int list =\n",
       "[77; 27; 83; 50; 73; 73; 47; 76; 94; 32; 9; 61; 73; 78; 27; 45; 41; 94; 43;\n",
       " 48; 98; 64; 30; 66; 93; 30; 76; 51; 69; 51; 36; 86; 22; 14; 7; 82; 48; 99;\n",
       " 42; 53; 39; 67; 60; 5; 93; 69; 9; 89; 72; 57; 54; 67; 66; 39; 67; 19; 38;\n",
       " 90; 41; 35; 76; 53; 38; 49; 1; 35; 17; 3; 96; 53; 35; 52; 48; 82; 13; 46;\n",
       " 24; 16; 99; 71; 21; 64; 25; 37; 83; 77; 58; 86; 11; 94; 57; 44; 97; 99; 24;\n",
       " 92; 22; 70; 14; 63; 78; 94; 2; 99; 42; 33; 59; 77; 67; 8; 79; 55; 27; 67;\n",
       " 90; 44; 55; 54; 28; 45; 25; 40; 69; 45; 20; 37; 62; 49; 78; 72; 87; 49; 45;\n",
       " 30; 43; 88; 64; 45; 53; 51; 17; 4; 43; 99; 76; 16; 95; 93; 88; 81; 41; 92;\n",
       " 94; 76; 68; 24; 95; 74; 99; 74; 16; 7; 30; 23; 16; 82; 53; 74; 21; 89; 38;\n",
       " 15; 56; 48; 1; 55; 59; 99; 73; 10; 63; 81; 87; 46; 86; 27; 51; 35; 55; 76;\n",
       " 43; 1; 69; 71; 9; 43; 54; 34; 78; 38; 1; 33; 25; 95; 18; 57; 97; 55; 85; 41;\n",
       " 84; 77; 26; 22; 44; 29; 82; 61; 28; 68; 71; 12; 5; 68; 27; 23; 82; 1; 17;\n",
       " 67; 76; 1; 8; 11; 18; 25; 87; 58; 52; 69; 46; 91; 53; 84; 51; 47; 85; 96;\n",
       " 60; 0; 68; 56; 59; 23; 66; 90; 23; 15; 93; 21; 98; 34; 18; 35; 90; 2; 71;\n",
       " 39; 92; 90; 40; 88; 99; 20; 96; 10; 64; 27; 32; 21; 11; 77; 8; 82; 54; 43;\n",
       " 95; 90; 75; 28; 6; 43; 69; 45; 45; 70; 19; 51; 2; ...]\n",
       "</pre>"
      ]
     },
     "execution_count": 7,
     "metadata": {},
     "output_type": "execute_result"
    }
   ],
   "source": [
    "let rec random_tail a n l = \n",
    "    if n <= 0 then \n",
    "    l\n",
    "    else \n",
    "        random_tail a (n-1) ((Random.int a)::l);;\n",
    "random_tail 100 1000000 []"
   ]
  },
  {
   "cell_type": "markdown",
   "metadata": {},
   "source": [
    "# 4.6. リストから偶数だけを取り出す"
   ]
  },
  {
   "cell_type": "code",
   "execution_count": 8,
   "metadata": {
    "collapsed": false
   },
   "outputs": [
    {
     "data": {
      "text/html": [
       "<pre style=\"color:slategray;max-height:100px;overflow:hidden\" \n",
       "onclick=\"\n",
       "if (this.style.maxHeight === 'none') \n",
       "    this.style.maxHeight = '100px';\n",
       "else\n",
       "    this.style.maxHeight = 'none'; \n",
       "\">val evens : int list -&gt; int list = &lt;fun&gt;\n",
       "</pre>"
      ]
     },
     "execution_count": 8,
     "metadata": {},
     "output_type": "execute_result"
    },
    {
     "data": {
      "text/html": [
       "<pre style=\"color:slategray;max-height:100px;overflow:hidden\" \n",
       "onclick=\"\n",
       "if (this.style.maxHeight === 'none') \n",
       "    this.style.maxHeight = '100px';\n",
       "else\n",
       "    this.style.maxHeight = 'none'; \n",
       "\">- : int list = [8; 6; 4]\n",
       "</pre>"
      ]
     },
     "execution_count": 8,
     "metadata": {},
     "output_type": "execute_result"
    }
   ],
   "source": [
    "let rec evens list =\n",
    "    match list with\n",
    "    [] -> []\n",
    "    |a ::r -> if a mod 2 == 0 then a :: evens r else evens r;;\n",
    "   \n",
    "evens [ 3; 9; 8; 6; 4; 7 ]"
   ]
  },
  {
   "cell_type": "markdown",
   "metadata": {},
   "source": [
    "# 4.7. リストから(p x)を満たすxだけを取り出す"
   ]
  },
  {
   "cell_type": "code",
   "execution_count": 9,
   "metadata": {
    "collapsed": false
   },
   "outputs": [
    {
     "data": {
      "text/html": [
       "<pre style=\"color:slategray;max-height:100px;overflow:hidden\" \n",
       "onclick=\"\n",
       "if (this.style.maxHeight === 'none') \n",
       "    this.style.maxHeight = '100px';\n",
       "else\n",
       "    this.style.maxHeight = 'none'; \n",
       "\">val filter_list : ('a -&gt; bool) -&gt; 'a list -&gt; 'a list = &lt;fun&gt;\n",
       "</pre>"
      ]
     },
     "execution_count": 9,
     "metadata": {},
     "output_type": "execute_result"
    },
    {
     "data": {
      "text/html": [
       "<pre style=\"color:slategray;max-height:100px;overflow:hidden\" \n",
       "onclick=\"\n",
       "if (this.style.maxHeight === 'none') \n",
       "    this.style.maxHeight = '100px';\n",
       "else\n",
       "    this.style.maxHeight = 'none'; \n",
       "\">- : int list = [8; 6; 4]\n",
       "</pre>"
      ]
     },
     "execution_count": 9,
     "metadata": {},
     "output_type": "execute_result"
    }
   ],
   "source": [
    "let rec filter_list funx list =\n",
    "    match list with\n",
    "    [] -> []\n",
    "    |a::r-> if funx a then a :: filter_list funx r else filter_list funx r;;\n",
    "\n",
    "filter_list (fun x -> x mod 2 = 0)  [ 3; 9; 8; 6; 4; 7 ];;"
   ]
  },
  {
   "cell_type": "markdown",
   "metadata": {},
   "source": [
    "# 4.8. クイックソート"
   ]
  },
  {
   "cell_type": "code",
   "execution_count": 10,
   "metadata": {
    "collapsed": false
   },
   "outputs": [
    {
     "data": {
      "text/html": [
       "<pre style=\"color:slategray;max-height:100px;overflow:hidden\" \n",
       "onclick=\"\n",
       "if (this.style.maxHeight === 'none') \n",
       "    this.style.maxHeight = '100px';\n",
       "else\n",
       "    this.style.maxHeight = 'none'; \n",
       "\">val qs : 'a list -&gt; 'a list = &lt;fun&gt;\n",
       "</pre>"
      ]
     },
     "execution_count": 10,
     "metadata": {},
     "output_type": "execute_result"
    },
    {
     "data": {
      "text/html": [
       "<pre style=\"color:slategray;max-height:100px;overflow:hidden\" \n",
       "onclick=\"\n",
       "if (this.style.maxHeight === 'none') \n",
       "    this.style.maxHeight = '100px';\n",
       "else\n",
       "    this.style.maxHeight = 'none'; \n",
       "\">- : int list = [2; 5; 7; 8]\n",
       "</pre>"
      ]
     },
     "execution_count": 10,
     "metadata": {},
     "output_type": "execute_result"
    },
    {
     "data": {
      "text/html": [
       "<pre style=\"color:slategray;max-height:100px;overflow:hidden\" \n",
       "onclick=\"\n",
       "if (this.style.maxHeight === 'none') \n",
       "    this.style.maxHeight = '100px';\n",
       "else\n",
       "    this.style.maxHeight = 'none'; \n",
       "\">val list : int list =\n",
       "  [6; 22; 28; 94; 97; 44; 59; 91; 58; 92; 90; 22; 28; 48; 36; 45; 57; 88; 76;\n",
       "   25; 81; 13; 8; 41; 76; 67; 74; 83; 59; 34; 81; 53; 20; 74; 36; 58; 78; 68;\n",
       "   63; 87; 82; 45; 4; 75; 64; 87; 76; 25; 64; 24; 71; 4; 4; 72; 12; 82; 97;\n",
       "   67; 50; 58; 67; 1; 32; 72; 15; 62; 8; 61; 91; 48; 68; 37; 23; 48; 55; 76;\n",
       "   38; 41; 68; 99; 64; 40; 48; 5; 73; 85; 57; 51; 57; 17; 42; 38; 62; 32; 31;\n",
       "   36; 23; 90; 19; 8; 47; 26; 61; 69; 77; 48; 53; 47; 38; 8; 26; 50; 1; 49;\n",
       "   28; 52; 52; 13; 59; 75; 21; 18; 90; 89; 94; 26; 76; 60; 85; 46; 44; 24;\n",
       "   48; 58; 91; 23; 43; 7; 74; 13; 67; 42; 8; 8; 93; 16; 55; 73; 42; 1; 52;\n",
       "   72; 10; 24; 80; 24; 7; 29; 76; 65; 6; 26; 57; 57; 49; 28; 62; 88; 59; 16;\n",
       "   31; 1; 79; 76; 36; 50; 24; 13; 11; 77; 17; 94; 0; 23; 30; 44; 61; 88; 28;\n",
       "   13; 4; 57; 77; 5; 0; 93; 58; 74; 82; 49; 47; 57; 75; 5; 85; 85; 26; 75;\n",
       "   88; 37; 47; 26; 9; 84; 71; 61; 54; 96; 7; 4; 64; 98; 44; 94; 89; 84; 55;\n",
       "   90; 71; 48; 44; 85; 29; 75; 28; 23; 92; 28; 92; 11; 93; 75; 96; 69; 65;\n",
       "   89; 17; 86; 23; 31; 76; 89; 30; 44; 11; 53; 27; 96; 67; 78; 99; 12; 80;\n",
       "   13; 77; 26; 30; 51; 56; 33; 36; 85; 76; 87; 25; 75; 80; 3; 73; 36; 78; 59;\n",
       "   30; 86; 76; 74; 88; 56; 25; 25; 69; 44; 5; 66; 66; 5; 11; 52; 20; ...]\n",
       "</pre>"
      ]
     },
     "execution_count": 10,
     "metadata": {},
     "output_type": "execute_result"
    },
    {
     "data": {
      "text/html": [
       "<pre style=\"color:slategray;max-height:100px;overflow:hidden\" \n",
       "onclick=\"\n",
       "if (this.style.maxHeight === 'none') \n",
       "    this.style.maxHeight = '100px';\n",
       "else\n",
       "    this.style.maxHeight = 'none'; \n",
       "\">- : int list =\n",
       "[0; 1; 2; 3; 4; 5; 6; 7; 8; 9; 10; 11; 12; 13; 14; 15; 16; 17; 18; 19; 20;\n",
       " 21; 22; 23; 24; 25; 26; 27; 28; 29; 30; 31; 32; 33; 34; 35; 36; 37; 38; 39;\n",
       " 40; 41; 42; 43; 44; 45; 46; 47; 48; 49; 50; 51; 52; 53; 54; 55; 56; 57; 58;\n",
       " 59; 60; 61; 62; 63; 64; 65; 66; 67; 68; 69; 70; 71; 72; 73; 74; 75; 76; 77;\n",
       " 78; 79; 80; 81; 82; 83; 84; 85; 86; 87; 88; 89; 90; 91; 92; 93; 94; 95; 96;\n",
       " 97; 98; 99]\n",
       "</pre>"
      ]
     },
     "execution_count": 10,
     "metadata": {},
     "output_type": "execute_result"
    }
   ],
   "source": [
    "let rec qs list = \n",
    "    match list with\n",
    "    [] -> []\n",
    "    |a::r-> qs(List.filter(fun x -> x < a)r) @ [a] @ qs(List.filter(fun x-> x>a)r);;\n",
    "qs [ 8; 5; 7; 2 ];;\n",
    "let list = random_tail 100 1000000[];;\n",
    "qs list;;"
   ]
  },
  {
   "cell_type": "markdown",
   "metadata": {},
   "source": [
    "# 4.9. 長いリストのソート"
   ]
  },
  {
   "cell_type": "code",
   "execution_count": 11,
   "metadata": {
    "collapsed": false
   },
   "outputs": [
    {
     "data": {
      "text/html": [
       "<pre style=\"color:slategray;max-height:100px;overflow:hidden\" \n",
       "onclick=\"\n",
       "if (this.style.maxHeight === 'none') \n",
       "    this.style.maxHeight = '100px';\n",
       "else\n",
       "    this.style.maxHeight = 'none'; \n",
       "\">val check_sorted : 'a list -&gt; bool = &lt;fun&gt;\n",
       "</pre>"
      ]
     },
     "execution_count": 11,
     "metadata": {},
     "output_type": "execute_result"
    },
    {
     "data": {
      "text/html": [
       "<pre style=\"color:slategray;max-height:100px;overflow:hidden\" \n",
       "onclick=\"\n",
       "if (this.style.maxHeight === 'none') \n",
       "    this.style.maxHeight = '100px';\n",
       "else\n",
       "    this.style.maxHeight = 'none'; \n",
       "\">- : bool = false\n",
       "</pre>"
      ]
     },
     "execution_count": 11,
     "metadata": {},
     "output_type": "execute_result"
    },
    {
     "data": {
      "text/html": [
       "<pre style=\"color:slategray;max-height:100px;overflow:hidden\" \n",
       "onclick=\"\n",
       "if (this.style.maxHeight === 'none') \n",
       "    this.style.maxHeight = '100px';\n",
       "else\n",
       "    this.style.maxHeight = 'none'; \n",
       "\">- : bool = true\n",
       "</pre>"
      ]
     },
     "execution_count": 11,
     "metadata": {},
     "output_type": "execute_result"
    },
    {
     "data": {
      "text/html": [
       "<pre style=\"color:slategray;max-height:100px;overflow:hidden\" \n",
       "onclick=\"\n",
       "if (this.style.maxHeight === 'none') \n",
       "    this.style.maxHeight = '100px';\n",
       "else\n",
       "    this.style.maxHeight = 'none'; \n",
       "\">val test_qs : int -&gt; bool = &lt;fun&gt;\n",
       "</pre>"
      ]
     },
     "execution_count": 11,
     "metadata": {},
     "output_type": "execute_result"
    },
    {
     "data": {
      "text/html": [
       "<pre style=\"color:slategray;max-height:100px;overflow:hidden\" \n",
       "onclick=\"\n",
       "if (this.style.maxHeight === 'none') \n",
       "    this.style.maxHeight = '100px';\n",
       "else\n",
       "    this.style.maxHeight = 'none'; \n",
       "\">- : bool = true\n",
       "</pre>"
      ]
     },
     "execution_count": 11,
     "metadata": {},
     "output_type": "execute_result"
    }
   ],
   "source": [
    "let rec check_sorted list =\n",
    "    match list with\n",
    "    [] -> true\n",
    "    |[a] ->true\n",
    "    |a::b::r-> if a <= b then check_sorted(b::r) else false;;\n",
    "check_sorted [3; 1; 2];;\n",
    "check_sorted [1; 2; 4];;\n",
    "let rec test_qs n =\n",
    "    let list = random_tail 1000 n [] in\n",
    "    let nlist = qs list in\n",
    "    check_sorted nlist;;\n",
    "test_qs 100000"
   ]
  },
  {
   "cell_type": "markdown",
   "metadata": {},
   "source": [
    "# 4.10. 実行時間測定"
   ]
  },
  {
   "cell_type": "code",
   "execution_count": 12,
   "metadata": {
    "collapsed": false
   },
   "outputs": [
    {
     "name": "stderr",
     "output_type": "stream",
     "text": [
      "File \"[12]\", line 6, characters 8-13:\n",
      "Warning 26: unused variable nlist.\n"
     ]
    },
    {
     "data": {
      "text/html": [
       "<pre style=\"color:slategray;max-height:100px;overflow:hidden\" \n",
       "onclick=\"\n",
       "if (this.style.maxHeight === 'none') \n",
       "    this.style.maxHeight = '100px';\n",
       "else\n",
       "    this.style.maxHeight = 'none'; \n",
       "\">- : float = 1524813772.55339789\n",
       "</pre>"
      ]
     },
     "execution_count": 12,
     "metadata": {},
     "output_type": "execute_result"
    },
    {
     "data": {
      "text/html": [
       "<pre style=\"color:slategray;max-height:100px;overflow:hidden\" \n",
       "onclick=\"\n",
       "if (this.style.maxHeight === 'none') \n",
       "    this.style.maxHeight = '100px';\n",
       "else\n",
       "    this.style.maxHeight = 'none'; \n",
       "\">val measure_qs : int -&gt; string = &lt;fun&gt;\n",
       "</pre>"
      ]
     },
     "execution_count": 12,
     "metadata": {},
     "output_type": "execute_result"
    },
    {
     "data": {
      "text/html": [
       "<pre style=\"color:slategray;max-height:100px;overflow:hidden\" \n",
       "onclick=\"\n",
       "if (this.style.maxHeight === 'none') \n",
       "    this.style.maxHeight = '100px';\n",
       "else\n",
       "    this.style.maxHeight = 'none'; \n",
       "\">- : string = &quot;OK 1000000 elems in  2.307786&quot;\n",
       "</pre>"
      ]
     },
     "execution_count": 12,
     "metadata": {},
     "output_type": "execute_result"
    }
   ],
   "source": [
    "Unix.gettimeofday ();;\n",
    "\n",
    "let rec measure_qs n =\n",
    "    let list = random_tail 1000 n [] in\n",
    "    let start_time = Unix.gettimeofday () in\n",
    "    let nlist = qs list in\n",
    "    let end_time = Unix.gettimeofday () in\n",
    "    let cost_time = end_time -. start_time in\n",
    "    Printf.sprintf \"OK 1000000 elems in  %f\" cost_time;;\n",
    " \n",
    "measure_qs 1000000;;"
   ]
  },
  {
   "cell_type": "markdown",
   "metadata": {},
   "source": [
    "# 4.11. 2分探索木"
   ]
  },
  {
   "cell_type": "code",
   "execution_count": 13,
   "metadata": {
    "collapsed": false
   },
   "outputs": [
    {
     "data": {
      "text/html": [
       "<pre style=\"color:slategray;max-height:100px;overflow:hidden\" \n",
       "onclick=\"\n",
       "if (this.style.maxHeight === 'none') \n",
       "    this.style.maxHeight = '100px';\n",
       "else\n",
       "    this.style.maxHeight = 'none'; \n",
       "\">type 'a bs_tree = Leaf | Node of ('a * 'a bs_tree * 'a bs_tree)\n",
       "</pre>"
      ]
     },
     "execution_count": 13,
     "metadata": {},
     "output_type": "execute_result"
    },
    {
     "data": {
      "text/html": [
       "<pre style=\"color:slategray;max-height:100px;overflow:hidden\" \n",
       "onclick=\"\n",
       "if (this.style.maxHeight === 'none') \n",
       "    this.style.maxHeight = '100px';\n",
       "else\n",
       "    this.style.maxHeight = 'none'; \n",
       "\">val bs_tree_insert : 'a -&gt; 'a bs_tree -&gt; 'a bs_tree = &lt;fun&gt;\n",
       "</pre>"
      ]
     },
     "execution_count": 13,
     "metadata": {},
     "output_type": "execute_result"
    }
   ],
   "source": [
    "type 'a bs_tree = Leaf | Node of ('a * 'a bs_tree * 'a bs_tree)\n",
    "    \n",
    "let rec bs_tree_insert x t = \n",
    "    match t with\n",
    "    Leaf -> Node(x, Leaf, Leaf)\n",
    "    |Node (y,l,r) -> if (x < y) then Node(y, bs_tree_insert x l, r) (* if x < y, insert x in left son tree  *)\n",
    "        else if (x > y) then Node(y, l, bs_tree_insert x r)(*if x>y, insert x in right son tree*)\n",
    "        else t(*if x ==y don't insert x and return tree t*)"
   ]
  },
  {
   "cell_type": "markdown",
   "metadata": {},
   "source": [
    "# 4.12. 2分探索木の探索"
   ]
  },
  {
   "cell_type": "code",
   "execution_count": 14,
   "metadata": {
    "collapsed": false
   },
   "outputs": [
    {
     "data": {
      "text/html": [
       "<pre style=\"color:slategray;max-height:100px;overflow:hidden\" \n",
       "onclick=\"\n",
       "if (this.style.maxHeight === 'none') \n",
       "    this.style.maxHeight = '100px';\n",
       "else\n",
       "    this.style.maxHeight = 'none'; \n",
       "\">type 'a bs_tree = Leaf | Node of ('a * 'a bs_tree * 'a bs_tree)\n",
       "</pre>"
      ]
     },
     "execution_count": 14,
     "metadata": {},
     "output_type": "execute_result"
    },
    {
     "data": {
      "text/html": [
       "<pre style=\"color:slategray;max-height:100px;overflow:hidden\" \n",
       "onclick=\"\n",
       "if (this.style.maxHeight === 'none') \n",
       "    this.style.maxHeight = '100px';\n",
       "else\n",
       "    this.style.maxHeight = 'none'; \n",
       "\">val bs_tree_find : 'a -&gt; 'a bs_tree -&gt; bool = &lt;fun&gt;\n",
       "</pre>"
      ]
     },
     "execution_count": 14,
     "metadata": {},
     "output_type": "execute_result"
    }
   ],
   "source": [
    "type 'a bs_tree = Leaf | Node of ('a * 'a bs_tree * 'a bs_tree)\n",
    "let rec bs_tree_find x t = \n",
    "    match t with\n",
    "    Leaf -> false\n",
    "    |Node (y,l,r) -> if (x < y) then bs_tree_find x l \n",
    "        else if(x > y) then bs_tree_find x r\n",
    "        else true"
   ]
  },
  {
   "cell_type": "markdown",
   "metadata": {},
   "source": [
    "# 4.13. 2分探索木からの削除"
   ]
  },
  {
   "cell_type": "code",
   "execution_count": 15,
   "metadata": {
    "collapsed": false
   },
   "outputs": [
    {
     "data": {
      "text/html": [
       "<pre style=\"color:slategray;max-height:100px;overflow:hidden\" \n",
       "onclick=\"\n",
       "if (this.style.maxHeight === 'none') \n",
       "    this.style.maxHeight = '100px';\n",
       "else\n",
       "    this.style.maxHeight = 'none'; \n",
       "\">type 'a bs_tree = Leaf | Node of ('a * 'a bs_tree * 'a bs_tree)\n",
       "</pre>"
      ]
     },
     "execution_count": 15,
     "metadata": {},
     "output_type": "execute_result"
    },
    {
     "data": {
      "text/html": [
       "<pre style=\"color:slategray;max-height:100px;overflow:hidden\" \n",
       "onclick=\"\n",
       "if (this.style.maxHeight === 'none') \n",
       "    this.style.maxHeight = '100px';\n",
       "else\n",
       "    this.style.maxHeight = 'none'; \n",
       "\">val find_min : string bs_tree -&gt; string = &lt;fun&gt;\n",
       "</pre>"
      ]
     },
     "execution_count": 15,
     "metadata": {},
     "output_type": "execute_result"
    },
    {
     "data": {
      "text/html": [
       "<pre style=\"color:slategray;max-height:100px;overflow:hidden\" \n",
       "onclick=\"\n",
       "if (this.style.maxHeight === 'none') \n",
       "    this.style.maxHeight = '100px';\n",
       "else\n",
       "    this.style.maxHeight = 'none'; \n",
       "\">val bs_tree_remove : string -&gt; string bs_tree -&gt; string bs_tree = &lt;fun&gt;\n",
       "</pre>"
      ]
     },
     "execution_count": 15,
     "metadata": {},
     "output_type": "execute_result"
    }
   ],
   "source": [
    "type 'a bs_tree = Leaf | Node of ('a * 'a bs_tree * 'a bs_tree)\n",
    "let rec find_min t = (*find minest value in the tree*)\n",
    "    match t with\n",
    "    |Leaf -> Printf.sprintf \"Find leaf, no value\"\n",
    "    |Node (y,l,r) -> if l = Leaf then y else find_min l;;\n",
    "        \n",
    "let rec bs_tree_remove x t = \n",
    "    match t with\n",
    "    Leaf -> t\n",
    "    |Node (y,l,r) -> if (x < y) then Node(y,bs_tree_remove x l,r)\n",
    "        else if(x > y) then Node(y,bs_tree_remove x r,l)\n",
    "        else match (l,r) with \n",
    "        |(Leaf,Leaf) -> Leaf(*don't have left and right son*)\n",
    "        |(l, Leaf) -> l(*have only left son*)\n",
    "        |(Leaf, r) -> r(*have only right son*)\n",
    "        |(l, r) -> Node((find_min r),l, bs_tree_remove (find_min r) r)(*find the minest one in right son tree\n",
    "        and put it in original place*)"
   ]
  },
  {
   "cell_type": "markdown",
   "metadata": {},
   "source": [
    "# 4.14. 2分探索木の計算量"
   ]
  },
  {
   "cell_type": "code",
   "execution_count": 16,
   "metadata": {
    "collapsed": false
   },
   "outputs": [],
   "source": [
    "(*平均計算量がlog(n)で\n",
    "最悪計算量がnで\n",
    "最悪の例は[0,1,2,3,4,5,6,7,8,9,10]みたいなものである*)"
   ]
  },
  {
   "cell_type": "markdown",
   "metadata": {},
   "source": [
    "# 4.15. 2-3木"
   ]
  },
  {
   "cell_type": "code",
   "execution_count": 17,
   "metadata": {
    "collapsed": false
   },
   "outputs": [],
   "source": [
    "(*まだ考えています\n",
    "type 'a tt_tree = Leaf | Node of ('a * 'a tt_tree * 'a tt_tree)| BNode of ('a * 'a * 'a tt_tree * 'a tt_tree * 'a tt_tree)\n",
    "let rec tt_tree_insert x t = \n",
    "    match t with\n",
    "    Leaf -> Node(x, Leaf, Leaf)\n",
    "    |Node (y,l,r) -> if (x < y) then Node(y, tt_tree_insert x l, r) (* if x < y, insert x in left son tree  *)\n",
    "        else if (x > y) then Node(y, l, tt_tree_insert x r)(*if x>y, insert x in right son tree*)\n",
    "        else t(*if x ==y don't insert x and return tree t*)\n",
    "    |BNode (a,b,l,m,r) -> if (x < a) then BNode(a,b,tt_tree_insert x l,m, r)(*have two values in one node*)\n",
    "        else if (x > b) then BNode(a,b,l,m,tt_tree_insert x r)\n",
    "        else if ((a < x) && (x <b)) then BNode(a,b,l,tt_tree_insert x l,r)\n",
    "        else t*)"
   ]
  },
  {
   "cell_type": "markdown",
   "metadata": {},
   "source": [
    "# 4.16. 2-3木からの削除"
   ]
  },
  {
   "cell_type": "code",
   "execution_count": null,
   "metadata": {
    "collapsed": true
   },
   "outputs": [],
   "source": []
  }
 ],
 "metadata": {
  "kernelspec": {
   "display_name": "OCaml",
   "language": "ocaml",
   "name": "iocaml-kernel"
  },
  "language_info": {
   "name": "ocaml",
   "version": "4.1.0"
  }
 },
 "nbformat": 4,
 "nbformat_minor": 0
}
