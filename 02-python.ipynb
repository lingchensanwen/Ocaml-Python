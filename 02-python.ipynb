{
 "cells": [
  {
   "cell_type": "markdown",
   "metadata": {},
   "source": [
    "# 3.1. [a,b)に含まれる整数の和 / Sum of integers in [a,b)"
   ]
  },
  {
   "cell_type": "code",
   "execution_count": 1,
   "metadata": {
    "collapsed": false
   },
   "outputs": [
    {
     "data": {
      "text/plain": [
       "42"
      ]
     },
     "execution_count": 1,
     "metadata": {},
     "output_type": "execute_result"
    }
   ],
   "source": [
    "def sum(a, b):\n",
    "    S = 0\n",
    "    for i in range(a, b):\n",
    "        S = S + i\n",
    "    return S\n",
    "sum(3, 10)"
   ]
  },
  {
   "cell_type": "markdown",
   "metadata": {},
   "source": [
    "# 3.2. リストの和 / Sum of numbers in a list"
   ]
  },
  {
   "cell_type": "code",
   "execution_count": 2,
   "metadata": {
    "collapsed": false
   },
   "outputs": [
    {
     "data": {
      "text/plain": [
       "19"
      ]
     },
     "execution_count": 2,
     "metadata": {},
     "output_type": "execute_result"
    }
   ],
   "source": [
    "def sumlist(l):\n",
    "    S = 0\n",
    "    for i in l:\n",
    "        S = S + i\n",
    "    return S\n",
    "sumlist([3, 7, 9])"
   ]
  },
  {
   "cell_type": "markdown",
   "metadata": {},
   "source": [
    "# 3.3. [a,b)に含まれる整数のリスト / List of integers in [a,b)"
   ]
  },
  {
   "cell_type": "code",
   "execution_count": 3,
   "metadata": {
    "collapsed": false
   },
   "outputs": [
    {
     "data": {
      "text/plain": [
       "[0, 1, 2, 3, 4, 5, 6, 7, 8, 9]"
      ]
     },
     "execution_count": 3,
     "metadata": {},
     "output_type": "execute_result"
    }
   ],
   "source": [
    "def my_range(a, b):\n",
    "    l = []\n",
    "    while a < b :\n",
    "        l = l + [a]\n",
    "        a = a + 1\n",
    "    return l\n",
    "my_range(0,10)"
   ]
  },
  {
   "cell_type": "markdown",
   "metadata": {},
   "source": [
    "# 3.4. クイックソート / Quicksort"
   ]
  },
  {
   "cell_type": "code",
   "execution_count": 4,
   "metadata": {
    "collapsed": false
   },
   "outputs": [
    {
     "data": {
      "text/plain": [
       "[2, 5, 7, 8]"
      ]
     },
     "execution_count": 4,
     "metadata": {},
     "output_type": "execute_result"
    }
   ],
   "source": [
    "def qs(l):\n",
    "    if l == []:\n",
    "        return l\n",
    "    else:\n",
    "        base = l[0]\n",
    "        large = [ x for x in l if x > base]\n",
    "        small = [ x for x in l if x < base]\n",
    "        return qs(small) + [base] + qs(large)\n",
    "qs([8,5,7,2])"
   ]
  },
  {
   "cell_type": "markdown",
   "metadata": {},
   "source": [
    "# 3.5. 組み込みのライブラリモジュールの利用(random_ints) / Using builtin library modules (random_ints)"
   ]
  },
  {
   "cell_type": "code",
   "execution_count": 5,
   "metadata": {
    "collapsed": false
   },
   "outputs": [
    {
     "name": "stdout",
     "output_type": "stream",
     "text": [
      "[537, 408, 839, 948, 743]\n"
     ]
    }
   ],
   "source": [
    "import random\n",
    "def random_ints(a, n):\n",
    "    i = 0\n",
    "    l = []\n",
    "    while i < n:\n",
    "        l.append(random.randint(0, a))\n",
    "        i = i + 1\n",
    "    return l\n",
    "print(random_ints(1000, 5))"
   ]
  },
  {
   "cell_type": "markdown",
   "metadata": {},
   "source": [
    "# 3.6. 長いリストのソート / Sort a large list"
   ]
  },
  {
   "cell_type": "code",
   "execution_count": 6,
   "metadata": {
    "collapsed": false
   },
   "outputs": [
    {
     "data": {
      "text/plain": [
       "0"
      ]
     },
     "execution_count": 6,
     "metadata": {},
     "output_type": "execute_result"
    }
   ],
   "source": [
    "def check_sorted(l):\n",
    "    if l == []:\n",
    "        return 1\n",
    "    if len(l) == 1:\n",
    "        return 1\n",
    "    else:\n",
    "        if l[0] <= l[1]:\n",
    "            return check_sorted(l[1:])\n",
    "        else:\n",
    "            return 0\n",
    "check_sorted([3,1,2])"
   ]
  },
  {
   "cell_type": "code",
   "execution_count": 7,
   "metadata": {
    "collapsed": true
   },
   "outputs": [],
   "source": [
    "def check_sorted_new(l):\n",
    "    if all(l[i] <= l[i+1] for i in range(len(l)-1)):\n",
    "        return 1\n",
    "    else:\n",
    "        return 0"
   ]
  },
  {
   "cell_type": "code",
   "execution_count": 8,
   "metadata": {
    "collapsed": false
   },
   "outputs": [
    {
     "data": {
      "text/plain": [
       "1"
      ]
     },
     "execution_count": 8,
     "metadata": {},
     "output_type": "execute_result"
    }
   ],
   "source": [
    "check_sorted_new([1,2,4]) #I spent about 15 minitues to find why when list is sorted, return NONE, then I find python \n",
    "                     #is a little special "
   ]
  },
  {
   "cell_type": "code",
   "execution_count": 9,
   "metadata": {
    "collapsed": false
   },
   "outputs": [
    {
     "data": {
      "text/plain": [
       "1"
      ]
     },
     "execution_count": 9,
     "metadata": {},
     "output_type": "execute_result"
    }
   ],
   "source": [
    "def test_qs(n):\n",
    "    l = random_ints(1000, n)\n",
    "    nl = qs(l)\n",
    "    return check_sorted_new(nl)\n",
    "test_qs(100000)"
   ]
  },
  {
   "cell_type": "markdown",
   "metadata": {},
   "source": [
    "# 3.7. 実行時間測定 / Measure execution time"
   ]
  },
  {
   "cell_type": "code",
   "execution_count": 10,
   "metadata": {
    "collapsed": false
   },
   "outputs": [
    {
     "name": "stdout",
     "output_type": "stream",
     "text": [
      "OK 100000 elems in 0.085545 sec\n"
     ]
    }
   ],
   "source": [
    "import time\n",
    "def measure_qs(n):\n",
    "    l = random_ints(1000, n)\n",
    "    start = time.time()\n",
    "    nl = qs(l)\n",
    "    end = time.time()\n",
    "    print(\"OK %d elems in %f sec\" % (n, end - start) )\n",
    "measure_qs(100000)"
   ]
  },
  {
   "cell_type": "markdown",
   "metadata": {},
   "source": [
    "# 3.8. クラスを使ってみる / Use a class"
   ]
  },
  {
   "cell_type": "code",
   "execution_count": 11,
   "metadata": {
    "collapsed": false
   },
   "outputs": [
    {
     "name": "stdout",
     "output_type": "stream",
     "text": [
      "<__main__.point instance at 0x7f029c601d88>\n",
      "3\n",
      "4\n",
      "25\n"
     ]
    }
   ],
   "source": [
    "class point:\n",
    "    def __init__(self, x, y):\n",
    "        self.x = x\n",
    "        self.y = y\n",
    "    def norm2(self):\n",
    "        return self.x ** 2 + self.y ** 2\n",
    "p = point(3, 4)\n",
    "print(p)\n",
    "print(p.x)\n",
    "print(p.y)\n",
    "print(p.norm2())"
   ]
  },
  {
   "cell_type": "markdown",
   "metadata": {},
   "source": [
    "# 3.10.1 Circleクラス / Circle class"
   ]
  },
  {
   "cell_type": "code",
   "execution_count": 12,
   "metadata": {
    "collapsed": false
   },
   "outputs": [
    {
     "data": {
      "image/svg+xml": [
       "<svg height=\"300\" viewBox=\"0 0 300 300\" width=\"300\" xmlns=\"http://www.w3.org/2000/svg\">\n",
       "  <circle cx=\"100\" cy=\"100\" fill=\"yellow\" r=\"100\" stroke=\"red\"/>\n",
       "</svg>"
      ],
      "text/plain": [
       "<IPython.core.display.SVG object>"
      ]
     },
     "metadata": {},
     "output_type": "display_data"
    }
   ],
   "source": [
    "%%svg\n",
    "<?xml version=\"1.0\" encoding=\"UTF-8\" standalone=\"yes\"?>\n",
    "<svg \n",
    "   xmlns=\"http://www.w3.org/2000/svg\"\n",
    "   width=\"300\" height=\"300\"\n",
    "   viewBox=\"0 0 300 300\" \n",
    ">\n",
    "  <circle cx=\"100\" cy=\"100\" r=\"100\" stroke=\"red\" fill=\"yellow\"/>\n",
    "</svg>\n"
   ]
  },
  {
   "cell_type": "code",
   "execution_count": 13,
   "metadata": {
    "collapsed": false
   },
   "outputs": [
    {
     "name": "stdout",
     "output_type": "stream",
     "text": [
      "['<circle cx=\"100\" cy=\"200\" r=\"70\" stroke=\"black\" fill=\"white\"/>']\n",
      "(30, 130, 140, 140)\n"
     ]
    }
   ],
   "source": [
    "class Circle(object):\n",
    "    def __init__(self, cx, cy, r):\n",
    "        self.cx = cx\n",
    "        self.cy = cy\n",
    "        self.r = r\n",
    "        self.stroke = \"black\"\n",
    "        self.fill = \"white\"\n",
    "        self.var = []\n",
    "    def to_svg(self):\n",
    "        return ['<circle cx=\"%d\" cy=\"%d\" r=\"%d\" stroke=\"%s\" fill=\"%s\"/>' % (self.cx, self.cy, self.r, self.stroke, self.fill)]\n",
    "    def bb(self):\n",
    "        return (self.cx - self.r, self.cy - self.r, 2 * self.r, 2* self.r)\n",
    "c = Circle(100, 200, 70)\n",
    "print(c.to_svg())\n",
    "print(c.bb())"
   ]
  },
  {
   "cell_type": "markdown",
   "metadata": {},
   "source": [
    "# 3.10.2 Rectクラス / Rect class"
   ]
  },
  {
   "cell_type": "code",
   "execution_count": 14,
   "metadata": {
    "collapsed": false
   },
   "outputs": [
    {
     "name": "stdout",
     "output_type": "stream",
     "text": [
      "['<rect x=\"300\" y=\"400\" width=\"80\" height=\"90\" stroke=\"black\" fill=\"white\"/>']\n",
      "(300, 400, 80, 90)\n"
     ]
    }
   ],
   "source": [
    "class Rect(object):\n",
    "    def __init__(self, x, y, width, height):\n",
    "        self.x = x\n",
    "        self.y = y\n",
    "        self.width = width\n",
    "        self.height = height\n",
    "        self.stroke = \"black\"\n",
    "        self.fill = \"white\"\n",
    "    def to_svg(self):\n",
    "        return ['<rect x=\"%d\" y=\"%d\" width=\"%d\" height=\"%d\" stroke=\"%s\" fill=\"%s\"/>' % (self.x, self.y, self.width, self.height, self.stroke, self.fill)]\n",
    "    def bb(self):\n",
    "        return (self.x, self.y, self.width, self.height)\n",
    "r = Rect(300, 400, 80, 90)\n",
    "print(r.to_svg())\n",
    "print(r.bb())"
   ]
  },
  {
   "cell_type": "markdown",
   "metadata": {},
   "source": [
    "# 3.10.3. SVGCanvasクラス / SVGCanvas class"
   ]
  },
  {
   "cell_type": "code",
   "execution_count": 15,
   "metadata": {
    "collapsed": false
   },
   "outputs": [],
   "source": [
    "class SVGCanvas(Rect,Circle):\n",
    "    def __init__(self):\n",
    "        self.w = -1000#max(Rect.bb()[0] + Rect.bb()[2] , Circle.bb()[0] + Circle.bb()[2]) - min(Rect.bb()[0], Circle.bb()[0])\n",
    "        self.h = -1000#max(Rect.bb()[1] + Rect.bb()[3] , CirCle.bb()[1] + Circle.bb()[3]) - min(Rect.bb()[1], Circle.bb()[1])\n",
    "        self.x = 1000#min(Rect.bb()[0], Circle.bb()[0])\n",
    "        self.y = 1000#min(Rect.bb()[1], Rect.bb()[1])\n",
    "        self.var = []\n",
    "        #return var \n",
    "    def add(self, shape):\n",
    "            self.x = min(self.x, shape.bb()[0])\n",
    "            self.y = min(self.y, shape.bb()[1])\n",
    "            self.w = max(self.w, (shape.bb()[0] + shape.bb()[2]) - self.x)\n",
    "            self.h = max(self.w, (shape.bb()[1] + shape.bb()[3]) - self.y)\n",
    "            self.var = self.var + shape.to_svg()\n",
    "    def to_svg(self):\n",
    "        self.var = [\n",
    "                \"<svg\",\n",
    "                \"\\txmlns=\\\"http://www.w3.org/2000/svg\\\"\",\n",
    "                \"\\twidth=\\\"%d\\\"\" % self.w,\n",
    "                \"\\theight=\\\"%d\\\"\" % self.h,\n",
    "                \"\\tviewBox=\\\"%d %d %d %d\\\"\" % (self.x, self.y, self.w, self.h),\n",
    "                \">\"] + self.var + [\"</svg>\"]\n",
    "        str = \"\"\n",
    "        for i in self.var:\n",
    "            str = str + i + '\\n'\n",
    "        return str"
   ]
  },
  {
   "cell_type": "code",
   "execution_count": 16,
   "metadata": {
    "collapsed": false
   },
   "outputs": [
    {
     "name": "stdout",
     "output_type": "stream",
     "text": [
      "<svg\n",
      "\txmlns=\"http://www.w3.org/2000/svg\"\n",
      "\twidth=\"350\"\n",
      "\theight=\"360\"\n",
      "\tviewBox=\"30 130 350 360\"\n",
      ">\n",
      "<circle cx=\"100\" cy=\"200\" r=\"70\" stroke=\"black\" fill=\"white\"/>\n",
      "<rect x=\"300\" y=\"400\" width=\"80\" height=\"90\" stroke=\"black\" fill=\"white\"/>\n",
      "</svg>\n",
      "\n"
     ]
    }
   ],
   "source": [
    "sc = SVGCanvas()\n",
    "sc.add(c)\n",
    "sc.add(r)\n",
    "print(sc.to_svg())"
   ]
  },
  {
   "cell_type": "code",
   "execution_count": 17,
   "metadata": {
    "collapsed": false
   },
   "outputs": [
    {
     "data": {
      "image/svg+xml": [
       "<svg height=\"360\" viewBox=\"30 130 350 360\" width=\"350\" xmlns=\"http://www.w3.org/2000/svg\">\n",
       "<svg height=\"360\" viewBox=\"30 130 350 360\" width=\"350\" xmlns=\"http://www.w3.org/2000/svg\">\n",
       "<circle cx=\"100\" cy=\"200\" fill=\"white\" r=\"70\" stroke=\"black\"/>\n",
       "<rect fill=\"white\" height=\"90\" stroke=\"black\" width=\"80\" x=\"300\" y=\"400\"/>\n",
       "</svg>\n",
       "</svg>"
      ],
      "text/plain": [
       "<IPython.core.display.SVG object>"
      ]
     },
     "execution_count": 17,
     "metadata": {},
     "output_type": "execute_result"
    }
   ],
   "source": [
    "from IPython.display import SVG\n",
    "SVG(sc.to_svg())"
   ]
  },
  {
   "cell_type": "markdown",
   "metadata": {},
   "source": [
    "# 3.10.4. 共通の親クラス ClosedShape / A common parent class ClosedShape"
   ]
  },
  {
   "cell_type": "code",
   "execution_count": 18,
   "metadata": {
    "collapsed": false
   },
   "outputs": [
    {
     "name": "stdout",
     "output_type": "stream",
     "text": [
      "['<rect x=\"300\" y=\"400\" width=\"80\" height=\"90\" stroke=\"black\" fill=\"yellow\"/>']\n",
      "['<rect x=\"300\" y=\"400\" width=\"80\" height=\"90\" stroke=\"red\" fill=\"yellow\"/>']\n"
     ]
    }
   ],
   "source": [
    "class ClosedShape(object):\n",
    "    def __init__(self):\n",
    "        self.fill = \"none\"\n",
    "        self.stroke = \"black\"\n",
    "    def set_fill(self, color):\n",
    "        self.fill = color\n",
    "    def set_stroke(self, color):\n",
    "        self.stroke = color\n",
    "class rect(ClosedShape):\n",
    "      def __init__(self):\n",
    "            ClosedShape.__init__(self)\n",
    "      def to_svg(self, shape): \n",
    "            return ['<rect x=\"%d\" y=\"%d\" width=\"%d\" height=\"%d\" stroke=\"%s\" fill=\"%s\"/>' % (shape.x, shape.y, shape.width, shape.height, self.stroke, self.fill)]\n",
    "class circle(ClosedShape):\n",
    "      def __init__(self,):\n",
    "            ClosedShape.__init__(self)\n",
    "      def to_svg(self, shape):\n",
    "            return ['<circle cx=\"%d\" cy=\"%d\" r=\"%d\" stroke=\"%s\" fill=\"%s\"/>' % (shape.cx, shape.cy, shape.r, self.stroke, self.fill)]\n",
    "s = rect()\n",
    "s.set_fill(\"yellow\")\n",
    "print(s.to_svg(r))\n",
    "s.set_stroke(\"red\")\n",
    "print(s.to_svg(r))"
   ]
  },
  {
   "cell_type": "markdown",
   "metadata": {},
   "source": [
    "# 3.10.5. その他の図形クラス(任意) / Other shape classes (optional)"
   ]
  },
  {
   "cell_type": "code",
   "execution_count": 19,
   "metadata": {
    "collapsed": false
   },
   "outputs": [],
   "source": [
    "class Text(object):\n",
    "    def __init__(self, x, y, rx, ry, rw, rh, string):\n",
    "        self.x = x\n",
    "        self.y = y\n",
    "        self.rx = rx\n",
    "        self.ry = ry\n",
    "        self.rw = rw\n",
    "        self.rh = rh\n",
    "        self.fill = \"blue\"\n",
    "        self.string = string\n",
    "    def prepare(self):\n",
    "        return ['<?xml version=\"1.0\" standalone=\"no\"?><!DOCTYPE svg PUBLIC \"-//W3C//DTD SVG 1.1//EN\" \"http://www.w3.org/Graphics/SVG/1.1/DTD/svg11.dtd\">']\n",
    "    def back(self):\n",
    "        return ['<svg width=\"10cm\" height=\"3cm\" viewBox=\"0 0 1000 300\" xmlns=\"http://www.w3.org/2000/svg\" version=\"1.1\">']\n",
    "    def to_svg(self):\n",
    "        return ['<text x=\"%d\" y=\"%d\" font-family = \"Verdana\" font-size = \"55\" fill=\"%s\"> %s </text>' % (self.x, self.y, self.fill, self.string)] \n",
    "    def rect(self):\n",
    "        return ['<rect x=\"%d\" y=\"%d\" width=\"%d\" height=\"%d\" fill=\"none\" stroke=\"blue\" stroke-width=\"2\" /> ' % (self.rx, self.ry, self.rw, self.rh)]\n",
    "    def printall(self):\n",
    "        s = []\n",
    "        s = s + self.prepare() + self.back() + self.to_svg() + self.rect() + ['</svg>']\n",
    "        str = \"\"\n",
    "        for i in s:\n",
    "            str = str + i\n",
    "        return str\n",
    "        "
   ]
  },
  {
   "cell_type": "code",
   "execution_count": 20,
   "metadata": {
    "collapsed": false
   },
   "outputs": [
    {
     "data": {
      "image/svg+xml": [
       "<svg height=\"3cm\" version=\"1.1\" viewBox=\"0 0 1000 300\" width=\"10cm\" xmlns=\"http://www.w3.org/2000/svg\"><text fill=\"blue\" font-family=\"Verdana\" font-size=\"55\" x=\"250\" y=\"150\"> Hello SVG </text><rect fill=\"none\" height=\"298\" stroke=\"blue\" stroke-width=\"2\" width=\"998\" x=\"1\" y=\"1\"/> </svg>"
      ],
      "text/plain": [
       "<IPython.core.display.SVG object>"
      ]
     },
     "execution_count": 20,
     "metadata": {},
     "output_type": "execute_result"
    }
   ],
   "source": [
    "s = \"Hello SVG\"\n",
    "r = Text(250,150, 1, 1, 998, 298, s) # x, y of string rx, ry, rw, rh of rect line , and string \n",
    "from IPython.display import SVG\n",
    "SVG(r.printall())"
   ]
  },
  {
   "cell_type": "markdown",
   "metadata": {},
   "source": [
    "# 3.10.6. 多数の図形の生成 / Generate many shapes"
   ]
  },
  {
   "cell_type": "code",
   "execution_count": 21,
   "metadata": {
    "collapsed": false
   },
   "outputs": [
    {
     "data": {
      "image/svg+xml": [
       "<svg height=\"600\" viewBox=\"-100 -100 600 600\" width=\"600\" xmlns=\"http://www.w3.org/2000/svg\">\n",
       "<rect fill=\"none\" height=\"-1\" stroke=\"black\" width=\"31\" x=\"14\" y=\"46\"/>\n",
       "<circle cx=\"78\" cy=\"46\" fill=\"none\" r=\"78\" stroke=\"black\"/>\n",
       "<circle cx=\"97\" cy=\"63\" fill=\"none\" r=\"97\" stroke=\"black\"/>\n",
       "<rect fill=\"none\" height=\"50\" stroke=\"black\" width=\"84\" x=\"117\" y=\"151\"/>\n",
       "<circle cx=\"70\" cy=\"42\" fill=\"none\" r=\"70\" stroke=\"black\"/>\n",
       "<rect fill=\"none\" height=\"-6\" stroke=\"black\" width=\"28\" x=\"205\" y=\"239\"/>\n",
       "<rect fill=\"none\" height=\"5\" stroke=\"black\" width=\"37\" x=\"26\" y=\"58\"/>\n",
       "<circle cx=\"19\" cy=\"-19\" fill=\"none\" r=\"19\" stroke=\"black\"/>\n",
       "<circle cx=\"110\" cy=\"174\" fill=\"none\" r=\"110\" stroke=\"black\"/>\n",
       "<rect fill=\"none\" height=\"65\" stroke=\"black\" width=\"101\" x=\"148\" y=\"184\"/>\n",
       "<rect fill=\"none\" height=\"79\" stroke=\"black\" width=\"111\" x=\"174\" y=\"206\"/>\n",
       "<circle cx=\"72\" cy=\"132\" fill=\"none\" r=\"72\" stroke=\"black\"/>\n",
       "<rect fill=\"none\" height=\"17\" stroke=\"black\" width=\"45\" x=\"248\" y=\"276\"/>\n",
       "<rect fill=\"none\" height=\"-15\" stroke=\"black\" width=\"17\" x=\"-14\" y=\"18\"/>\n",
       "<circle cx=\"40\" cy=\"116\" fill=\"none\" r=\"40\" stroke=\"black\"/>\n",
       "<rect fill=\"none\" height=\"53\" stroke=\"black\" width=\"89\" x=\"124\" y=\"160\"/>\n",
       "<circle cx=\"57\" cy=\"35\" fill=\"none\" r=\"57\" stroke=\"black\"/>\n",
       "<circle cx=\"59\" cy=\"121\" fill=\"none\" r=\"59\" stroke=\"black\"/>\n",
       "<circle cx=\"18\" cy=\"-18\" fill=\"none\" r=\"18\" stroke=\"black\"/>\n",
       "<circle cx=\"21\" cy=\"-5\" fill=\"none\" r=\"21\" stroke=\"black\"/>\n",
       "<rect fill=\"none\" height=\"18\" stroke=\"black\" width=\"52\" x=\"53\" y=\"87\"/>\n",
       "<circle cx=\"59\" cy=\"21\" fill=\"none\" r=\"59\" stroke=\"black\"/>\n",
       "<rect fill=\"none\" height=\"33\" stroke=\"black\" width=\"65\" x=\"82\" y=\"114\"/>\n",
       "<rect fill=\"none\" height=\"9\" stroke=\"black\" width=\"29\" x=\"228\" y=\"248\"/>\n",
       "<rect fill=\"none\" height=\"-4\" stroke=\"black\" width=\"22\" x=\"5\" y=\"31\"/>\n",
       "<circle cx=\"17\" cy=\"87\" fill=\"none\" r=\"17\" stroke=\"black\"/>\n",
       "</svg>"
      ],
      "text/plain": [
       "<IPython.core.display.SVG object>"
      ]
     },
     "execution_count": 21,
     "metadata": {},
     "output_type": "execute_result"
    }
   ],
   "source": [
    "import matplotlib.pyplot as plt   \n",
    "def Random():\n",
    "    n = SVGCanvas()\n",
    "    i = 0\n",
    "    cache = []\n",
    "    while (i <= 25):\n",
    "        i = i + 1\n",
    "        number =  random.randint(0, 200) \n",
    "        number2 = random.randint(10,20)\n",
    "        if number % 2 == 0:\n",
    "            s = circle()\n",
    "            s.set_fill(\"none\")\n",
    "            #print(s.to_svg(Circle(number %100, number + 5, number %100)))\n",
    "            cache += s.to_svg(Circle(number %100 +number2 , number - number2, number %100 + number2 ))\n",
    "            #n.add(Circle(number %100, number + 5, number %100)) \n",
    "        else:\n",
    "            s = rect()\n",
    "            s.set_fill(\"none\")\n",
    "            #print(s.to_svg(Rect(number * 2, 80 * number, 20 * number, 20 * number)))\n",
    "            cache += s.to_svg(Rect(number * 2 - number2 ,  number * 2 + number2 , number % 100 + number2 , number %100 - number2 ))\n",
    "    return cache\n",
    "def painting(cache):\n",
    "    f = open('sample.svg', 'w+')# I try to write the lines into sample.svg file to save it but it failed\n",
    "    var = [\n",
    "                \"<svg\",\n",
    "                \"\\txmlns=\\\"http://www.w3.org/2000/svg\\\"\",\n",
    "                \"\\twidth=\\\"600\\\" \",\n",
    "                \"\\theight=\\\"600\\\" \",\n",
    "                \"\\tviewBox=\\\"-100 -100 600 600\\\"\",\n",
    "                \">\"] + cache + [\"</svg>\"]\n",
    "    str = \"\"\n",
    "    for i in var:\n",
    "        str = str + i + '\\n'\n",
    "        f.write(i)\n",
    "    f.close()\n",
    "    return str\n",
    "from IPython.display import SVG\n",
    "SVG(painting(Random()))       "
   ]
  },
  {
   "cell_type": "code",
   "execution_count": 22,
   "metadata": {
    "collapsed": false
   },
   "outputs": [
    {
     "name": "stdout",
     "output_type": "stream",
     "text": [
      "<svg\txmlns=\"http://www.w3.org/2000/svg\"\twidth=\"600\" \theight=\"600\" \tviewBox=\"-100 -100 600 600\"><rect x=\"14\" y=\"46\" width=\"31\" height=\"-1\" stroke=\"black\" fill=\"none\"/><circle cx=\"78\" cy=\"46\" r=\"78\" stroke=\"black\" fill=\"none\"/><circle cx=\"97\" cy=\"63\" r=\"97\" stroke=\"black\" fill=\"none\"/><rect x=\"117\" y=\"151\" width=\"84\" height=\"50\" stroke=\"black\" fill=\"none\"/><circle cx=\"70\" cy=\"42\" r=\"70\" stroke=\"black\" fill=\"none\"/><rect x=\"205\" y=\"239\" width=\"28\" height=\"-6\" stroke=\"black\" fill=\"none\"/><rect x=\"26\" y=\"58\" width=\"37\" height=\"5\" stroke=\"black\" fill=\"none\"/><circle cx=\"19\" cy=\"-19\" r=\"19\" stroke=\"black\" fill=\"none\"/><circle cx=\"110\" cy=\"174\" r=\"110\" stroke=\"black\" fill=\"none\"/><rect x=\"148\" y=\"184\" width=\"101\" height=\"65\" stroke=\"black\" fill=\"none\"/><rect x=\"174\" y=\"206\" width=\"111\" height=\"79\" stroke=\"black\" fill=\"none\"/><circle cx=\"72\" cy=\"132\" r=\"72\" stroke=\"black\" fill=\"none\"/><rect x=\"248\" y=\"276\" width=\"45\" height=\"17\" stroke=\"black\" fill=\"none\"/><rect x=\"-14\" y=\"18\" width=\"17\" height=\"-15\" stroke=\"black\" fill=\"none\"/><circle cx=\"40\" cy=\"116\" r=\"40\" stroke=\"black\" fill=\"none\"/><rect x=\"124\" y=\"160\" width=\"89\" height=\"53\" stroke=\"black\" fill=\"none\"/><circle cx=\"57\" cy=\"35\" r=\"57\" stroke=\"black\" fill=\"none\"/><circle cx=\"59\" cy=\"121\" r=\"59\" stroke=\"black\" fill=\"none\"/><circle cx=\"18\" cy=\"-18\" r=\"18\" stroke=\"black\" fill=\"none\"/><circle cx=\"21\" cy=\"-5\" r=\"21\" stroke=\"black\" fill=\"none\"/><rect x=\"53\" y=\"87\" width=\"52\" height=\"18\" stroke=\"black\" fill=\"none\"/><circle cx=\"59\" cy=\"21\" r=\"59\" stroke=\"black\" fill=\"none\"/><rect x=\"82\" y=\"114\" width=\"65\" height=\"33\" stroke=\"black\" fill=\"none\"/><rect x=\"228\" y=\"248\" width=\"29\" height=\"9\" stroke=\"black\" fill=\"none\"/><rect x=\"5\" y=\"31\" width=\"22\" height=\"-4\" stroke=\"black\" fill=\"none\"/><circle cx=\"17\" cy=\"87\" r=\"17\" stroke=\"black\" fill=\"none\"/></svg>\n"
     ]
    },
    {
     "data": {
      "text/plain": [
       "<function close>"
      ]
     },
     "execution_count": 22,
     "metadata": {},
     "output_type": "execute_result"
    }
   ],
   "source": [
    "#to prove that I have save the file\n",
    "f = open('sample.svg', 'r')\n",
    "for line in f:\n",
    "    print(line)\n",
    "f.close"
   ]
  },
  {
   "cell_type": "markdown",
   "metadata": {},
   "source": [
    "# 3.11. 2分探索木 / Binary search tree"
   ]
  },
  {
   "cell_type": "code",
   "execution_count": 23,
   "metadata": {
    "collapsed": false
   },
   "outputs": [
    {
     "name": "stdout",
     "output_type": "stream",
     "text": [
      "('the value of t.root is', 10)\n"
     ]
    }
   ],
   "source": [
    "class bs_tree_node(object):\n",
    "    def __init__(self, value):\n",
    "        self.value = value\n",
    "        self.left = None\n",
    "        self.right = None\n",
    "\n",
    "class bs_tree():\n",
    "    def __init__(self):\n",
    "        self.root = None\n",
    "        self.l = []\n",
    "    def insert(self, value):\n",
    "        if self.root is None:\n",
    "            self.root = bs_tree_node(value)\n",
    "        else: \n",
    "            self.add(value, self.root)\n",
    "    def add(self, value, node):\n",
    "            if(value <= node.value):\n",
    "                if node.left == None:\n",
    "                    node.left = bs_tree_node(value)\n",
    "                    return\n",
    "                else:\n",
    "                    return self.add(value, node = node.left)\n",
    "            else:\n",
    "                if node.right == None:\n",
    "                    node.right = bs_tree_node(value)\n",
    "                    return \n",
    "                else:\n",
    "                    return self.add(value, node = node.right)\n",
    "t = bs_tree()\n",
    "t.insert(10)\n",
    "t.insert(8)\n",
    "t.insert(15)\n",
    "print(\"the value of t.root is\", t.root.value)"
   ]
  },
  {
   "cell_type": "markdown",
   "metadata": {},
   "source": [
    "# 3.12. 2分探索木の要素の昇順リスト / Ascending list of elements in a binary search tree"
   ]
  },
  {
   "cell_type": "code",
   "execution_count": 24,
   "metadata": {
    "collapsed": false
   },
   "outputs": [
    {
     "name": "stdout",
     "output_type": "stream",
     "text": [
      "[8, 10, 15]\n",
      "8\n"
     ]
    }
   ],
   "source": [
    "class bs_tree():\n",
    "    def __init__(self):\n",
    "        self.root = None\n",
    "        self.l = []\n",
    "    def insert(self, value):\n",
    "        if self.root is None:\n",
    "            self.root = bs_tree_node(value)\n",
    "        else: \n",
    "            self.add(value, self.root)\n",
    "    def add(self, value, node):\n",
    "            if(value <= node.value):\n",
    "                if node.left == None:\n",
    "                    node.left = bs_tree_node(value)\n",
    "                    return\n",
    "                else:\n",
    "                    return self.add(value, node = node.left)\n",
    "            else:\n",
    "                if node.right == None:\n",
    "                    node.right = bs_tree_node(value)\n",
    "                    return \n",
    "                else:\n",
    "                    return self.add(value, node = node.right)\n",
    "    def all_vals_list(self):\n",
    "        if(self.root != None):\n",
    "            self.all_vals_run(self.root)\n",
    "            print(self.l)\n",
    "    def all_vals_run(self, node):\n",
    "        if node != None:\n",
    "            self.all_vals_run(node = node.left)\n",
    "            self.l = self.l + [node.value]\n",
    "            self.all_vals_run(node = node.right)\n",
    "t = bs_tree()\n",
    "t.insert(10)\n",
    "t.insert(8)\n",
    "t.insert(15)\n",
    "t.all_vals_list()\n",
    "print(t.root.left.value)"
   ]
  },
  {
   "cell_type": "markdown",
   "metadata": {},
   "source": [
    "# 3.13. 2分探索木の要素の昇順イテレータ / An iterator generating elements of a binary tree in the ascending order"
   ]
  },
  {
   "cell_type": "code",
   "execution_count": 25,
   "metadata": {
    "collapsed": false
   },
   "outputs": [
    {
     "name": "stdout",
     "output_type": "stream",
     "text": [
      "8\n",
      "10\n",
      "15\n"
     ]
    }
   ],
   "source": [
    "class bs_tree2(object):\n",
    "    def __init__(self, tree = None):\n",
    "        self.stack = []\n",
    "        self.tree = tree.root\n",
    "        while self.tree != None:\n",
    "            self.stack.append(self.tree)\n",
    "            self.tree = self.tree.left\n",
    "    def __iter__(self):\n",
    "        return self\n",
    "    def __next__(self):\n",
    "        if len(self.stack)>0:\n",
    "            self.tree = self.stack.pop()\n",
    "            temp = self.tree\n",
    "            self.tree = self.tree.right\n",
    "            while(self.tree!=None):\n",
    "                self.stack.append(self.tree)\n",
    "                self.tree = self.tree.left\n",
    "            return temp.value\n",
    "        else:\n",
    "            raise StopIteration\n",
    "    def next(self):\n",
    "        return self.__next__()\n",
    "t = bs_tree2(t)\n",
    "t\n",
    "for i in t:\n",
    "    print(i)"
   ]
  },
  {
   "cell_type": "markdown",
   "metadata": {},
   "source": [
    "# 3.14. 2分探索木の可視化(任意) / Visualize a binary search tree (optional)"
   ]
  },
  {
   "cell_type": "code",
   "execution_count": null,
   "metadata": {
    "collapsed": true
   },
   "outputs": [],
   "source": []
  }
 ],
 "metadata": {
  "kernelspec": {
   "display_name": "Python 2",
   "language": "python",
   "name": "python2"
  },
  "language_info": {
   "codemirror_mode": {
    "name": "ipython",
    "version": 2
   },
   "file_extension": ".py",
   "mimetype": "text/x-python",
   "name": "python",
   "nbconvert_exporter": "python",
   "pygments_lexer": "ipython2",
   "version": "2.7.6"
  }
 },
 "nbformat": 4,
 "nbformat_minor": 0
}
