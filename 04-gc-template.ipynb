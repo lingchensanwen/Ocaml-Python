{
 "cells": [
  {
   "cell_type": "markdown",
   "metadata": {},
   "source": [
    "(double-click to edit)\n",
    "# 学生証番号 Student ID : nnnnnn \n",
    "# 名前 Name : aaaaaa bbbbbb"
   ]
  },
  {
   "cell_type": "markdown",
   "metadata": {},
   "source": [
    "# このJupyter環境の使い方例 / How to use this Jupyter environment\n",
    "以下のように，保存したいソースコードの中身，そのファイル名(%% ...)，保存した後で実行したいコマンド(% ...) を一つのセルに書ける\n",
    "\n",
    "You can write the source code you want to save, its filename (%% ...) and the commands you want to execute after you save the source code, in one cell, like below."
   ]
  },
  {
   "cell_type": "code",
   "execution_count": 4,
   "metadata": {
    "collapsed": false
   },
   "outputs": [
    {
     "name": "stderr",
     "output_type": "stream",
     "text": [
      "[C kernel] write to ex.c\n",
      "[C kernel]  gcc ex.c\n",
      "[C kernel]  ./a.out\n"
     ]
    },
    {
     "name": "stdout",
     "output_type": "stream",
     "text": [
      "hello\n"
     ]
    }
   ],
   "source": [
    "%% ex.c\n",
    "% gcc ex.c\n",
    "% ./a.out\n",
    "\n",
    "#include <stdio.h>\n",
    "#include <stdlib.h>\n",
    "int main() { printf(\"hello\\n\"); exit(0); }"
   ]
  },
  {
   "cell_type": "markdown",
   "metadata": {
    "collapsed": true
   },
   "source": [
    "# 5 GCの効果を体験してみる / Try GC and see it's working\n",
    "プログラム，コンパイルコマンド，実行例\n",
    "\n",
    "A program, a command line to compile it and a command line to execute it. "
   ]
  },
  {
   "cell_type": "code",
   "execution_count": null,
   "metadata": {
    "collapsed": false
   },
   "outputs": [],
   "source": []
  },
  {
   "cell_type": "markdown",
   "metadata": {},
   "source": [
    "# 6 メモリ使用量とGC性能のトレードオフ / Trade off between memory usage and GC performance\n",
    "プログラム，コンパイルコマンド，実行例\n",
    "\n",
    "A program, a command line to compile it and a command line to execute it. "
   ]
  },
  {
   "cell_type": "code",
   "execution_count": null,
   "metadata": {
    "collapsed": false
   },
   "outputs": [],
   "source": []
  },
  {
   "cell_type": "markdown",
   "metadata": {},
   "source": [
    "# 7 GCとfreeを比べる / Compare GC and free\n",
    "プログラム，コンパイルコマンド，実行例\n",
    "\n",
    "A program, a command line to compile it and a command line to execute it. "
   ]
  },
  {
   "cell_type": "code",
   "execution_count": null,
   "metadata": {
    "collapsed": true
   },
   "outputs": [],
   "source": []
  },
  {
   "cell_type": "markdown",
   "metadata": {},
   "source": [
    "# 8 メモリ管理の挙動を調べてみる / Observe the behavior of memory management\n",
    "プログラム，コンパイルコマンド，実行例\n",
    "\n",
    "A program, a command line to compile it and a command line to execute it. "
   ]
  },
  {
   "cell_type": "code",
   "execution_count": null,
   "metadata": {
    "collapsed": false
   },
   "outputs": [],
   "source": []
  },
  {
   "cell_type": "markdown",
   "metadata": {},
   "source": [
    "# 9 割り当てられたアドレスの可視化 / Visualize allocated addresses\n",
    "\n",
    " * gc が割り当てたアドレスを可視化したものは addr_gc.svg として，\n",
    " * malloc (gcなし)が割り当てたアドレスを可視化したものは addr_nogc.svg として\n",
    " \n",
    " * save visualization of addresses allocated by GC into addr_gc.svg\n",
    " * save visualization of addresses allocated by malloc (without GC) into addr_nogc.svg\n",
    " \n",
    " upload and show them below"
   ]
  },
  {
   "cell_type": "code",
   "execution_count": null,
   "metadata": {
    "collapsed": true
   },
   "outputs": [],
   "source": []
  },
  {
   "cell_type": "markdown",
   "metadata": {},
   "source": [
    "# 10 オブジェクトの寿命を調べる / Examine lifetime of objects\n",
    "プログラム，コンパイルコマンド，実行例\n",
    "\n",
    "A program, a command line to compile it and a command line to execute it. "
   ]
  },
  {
   "cell_type": "code",
   "execution_count": null,
   "metadata": {
    "collapsed": false
   },
   "outputs": [],
   "source": []
  },
  {
   "cell_type": "markdown",
   "metadata": {},
   "source": [
    "# 11 オブジェクトの寿命分布を可視化 / Visualize distribution of object lifetimes\n",
    "\n",
    " * 実行した際のパラメータを明記のこと\n",
    " * その上で， lifetime_distribution.svg というファイルに可視化結果を保存し，以下に表示せよ\n",
    "\n",
    " * show command line arguments that executed it\n",
    " * save the visualization into lifetime_distribution.svg and show it below"
   ]
  },
  {
   "cell_type": "code",
   "execution_count": null,
   "metadata": {
    "collapsed": true
   },
   "outputs": [],
   "source": []
  },
  {
   "cell_type": "markdown",
   "metadata": {},
   "source": [
    "# 12 生きているオブジェクト量の時系列可視化 / Visualize the time series of live object size\n",
    " * 実行した際のパラメータは上記と同じにせよ\n",
    " * その上で， live_data.svg というファイルに可視化結果を保存し，アップロードせよ\n",
    " \n",
    " * show command line arguments that executed it\n",
    " * save the visualization into live_data.svg and show it below"
   ]
  },
  {
   "cell_type": "code",
   "execution_count": null,
   "metadata": {
    "collapsed": true
   },
   "outputs": [],
   "source": []
  },
  {
   "cell_type": "markdown",
   "metadata": {},
   "source": [
    "# 13 mark-cons比の解析(シミュレーション) / Analyze mark-cons ratio (simulation)\n",
    " * 可視化のために作った解析プログラムをアップロードせよ (例: mark_cons.py)\n",
    " * 若い世代(年齢y以下)のGCのmark-cons比の可視化結果は mark_cons_young.svg\n",
    " * 全体GCのmark-cons比の可視化結果は mark_cons_all.svg\n",
    " * 考察はmarkdownセルを作ってそこに書け\n",
    " \n",
    " * upload the analysis program (e.g., mark_cons.py)\n",
    " * save the visualization of mark-cons ratio of young object GC (of age y or less) into mark_cons_young.svg\n",
    " * save the visualization of mark-cons ratio of the whole GC into mark_cons_all.svg\n",
    " * put your thought on a markown cell"
   ]
  },
  {
   "cell_type": "code",
   "execution_count": null,
   "metadata": {
    "collapsed": true
   },
   "outputs": [],
   "source": []
  },
  {
   "cell_type": "markdown",
   "metadata": {},
   "source": [
    "# 14 Boehm GCのインクリメンタルGCを使ってみる / Try incremental GC of Boehm GC"
   ]
  },
  {
   "cell_type": "code",
   "execution_count": null,
   "metadata": {
    "collapsed": true
   },
   "outputs": [],
   "source": []
  }
 ],
 "metadata": {
  "kernelspec": {
   "display_name": "C",
   "language": "c",
   "name": "c_spec"
  },
  "language_info": {
   "file_extension": "c",
   "mimetype": "text/plain",
   "name": "c"
  }
 },
 "nbformat": 4,
 "nbformat_minor": 0
}
